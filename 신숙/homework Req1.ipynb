{
 "cells": [
  {
   "cell_type": "code",
   "execution_count": 32,
   "id": "20c69037",
   "metadata": {},
   "outputs": [],
   "source": [
    "# Req1-1 데이터 읽기 및 시각화\n",
    "import tensorflow as tf\n",
    "import numpy as np\n",
    "import matplotlib.pyplot as plt\n",
    "\n",
    "from models.linear_model import LinearModel"
   ]
  },
  {
   "cell_type": "code",
   "execution_count": 17,
   "id": "5c0a4708",
   "metadata": {},
   "outputs": [],
   "source": [
    "# 데이터 불러오기\n",
    "train_data = np.load(\".\\\\datasets\\\\linear_train.npy\")"
   ]
  },
  {
   "cell_type": "code",
   "execution_count": 25,
   "id": "e85314ee",
   "metadata": {},
   "outputs": [],
   "source": [
    "# tf 형식에 맞게 변환\n",
    "x_data = np.expand_dims(train_data[:,0], axis=1)\n",
    "y_data = train_data[:,1]"
   ]
  },
  {
   "cell_type": "code",
   "execution_count": 26,
   "id": "12f404d0",
   "metadata": {},
   "outputs": [],
   "source": [
    "# 모델 생성\n",
    "model = LinearModel(num_units=1)"
   ]
  },
  {
   "cell_type": "code",
   "execution_count": 27,
   "id": "c109f70c",
   "metadata": {},
   "outputs": [],
   "source": [
    "# 최적화 함수, 손실함수와 모델 바인딩\n",
    "model.compile(optimizer=tf.keras.optimizers.SGD(learning_rate=0.001),\n",
    "\t\t\t  loss=tf.keras.losses.MSE,\n",
    "\t\t\t  metrics=[tf.keras.metrics.MeanSquaredError()])"
   ]
  },
  {
   "cell_type": "code",
   "execution_count": 30,
   "id": "bb1e24af",
   "metadata": {},
   "outputs": [
    {
     "name": "stdout",
     "output_type": "stream",
     "text": [
      "Train on 500 samples\n",
      "Epoch 1/10\n",
      "500/500 [==============================] - 0s 112us/sample - loss: 920.8380 - mean_squared_error: 920.8381\n",
      "Epoch 2/10\n",
      "500/500 [==============================] - 0s 74us/sample - loss: 922.2925 - mean_squared_error: 922.2925\n",
      "Epoch 3/10\n",
      "500/500 [==============================] - 0s 80us/sample - loss: 925.0058 - mean_squared_error: 925.0058\n",
      "Epoch 4/10\n",
      "500/500 [==============================] - 0s 76us/sample - loss: 926.8011 - mean_squared_error: 926.8012\n",
      "Epoch 5/10\n",
      "500/500 [==============================] - 0s 74us/sample - loss: 924.9416 - mean_squared_error: 924.9417\n",
      "Epoch 6/10\n",
      "500/500 [==============================] - 0s 76us/sample - loss: 920.6853 - mean_squared_error: 920.6852\n",
      "Epoch 7/10\n",
      "500/500 [==============================] - 0s 68us/sample - loss: 918.1320 - mean_squared_error: 918.1320\n",
      "Epoch 8/10\n",
      "500/500 [==============================] - 0s 68us/sample - loss: 923.0714 - mean_squared_error: 923.0714\n",
      "Epoch 9/10\n",
      "500/500 [==============================] - 0s 70us/sample - loss: 920.5694 - mean_squared_error: 920.5695\n",
      "Epoch 10/10\n",
      "500/500 [==============================] - 0s 74us/sample - loss: 917.9601 - mean_squared_error: 917.9601\n"
     ]
    },
    {
     "data": {
      "text/plain": [
       "<tensorflow.python.keras.callbacks.History at 0x14af84c80c8>"
      ]
     },
     "execution_count": 30,
     "metadata": {},
     "output_type": "execute_result"
    }
   ],
   "source": [
    "# 모델 학습\n",
    "model.fit(x=x_data, y=y_data, epochs=10, batch_size=32)"
   ]
  },
  {
   "cell_type": "code",
   "execution_count": 31,
   "id": "efdb3d02",
   "metadata": {},
   "outputs": [
    {
     "data": {
      "image/png": "[encoded data removed]",
      "text/plain": [
       "<Figure size 432x288 with 1 Axes>"
      ]
     },
     "metadata": {
      "needs_background": "light"
     },
     "output_type": "display_data"
    }
   ],
   "source": [
    "# 결과 시각화\n",
    "plt.scatter(x_data,y_data,s=3,label=\"train data\")\n",
    "plt.legend()\n",
    "plt.show()"
   ]
  },
  {
   "cell_type": "code",
   "execution_count": 14,
   "id": "ffa4efbf",
   "metadata": {
    "scrolled": true
   },
   "outputs": [
    {
     "name": "stdout",
     "output_type": "stream",
     "text": [
      "Model: \"linear_model\"\n",
      "_________________________________________________________________\n",
      "Layer (type)                 Output Shape              Param #   \n",
      "=================================================================\n",
      "dense (Dense)                multiple                  2         \n",
      "=================================================================\n",
      "Total params: 2\n",
      "Trainable params: 2\n",
      "Non-trainable params: 0\n",
      "_________________________________________________________________\n"
     ]
    }
   ],
   "source": [
    "# 모델 정리\n",
    "model.summary()"
   ]
  },
  {
   "cell_type": "code",
   "execution_count": null,
   "id": "7dc36dea",
   "metadata": {},
   "outputs": [],
   "source": []
  },
  {
   "cell_type": "code",
   "execution_count": 33,
   "id": "0eeada1b",
   "metadata": {},
   "outputs": [],
   "source": [
    "# Req 1-2 선형 모델 클래스 구현.\n",
    "import tensorflow as tf\n",
    "import matplotlib.pyplot as plt\n",
    "\n",
    "class LinearModel(tf.keras.Model):\n",
    "\tdef __init__(self, num_units):\n",
    "\t\tsuper(LinearModel, self).__init__()\n",
    "\t\tself.units = num_units\n",
    "\t\tself.model = tf.keras.layers.Dense(units=self.units) \n",
    "\n",
    "\tdef call(self,x):\n",
    "\t\ty = self.model(x)\n",
    "\t\treturn y\n",
    "    \n",
    "# 뭘 바꿔야하는거지???"
   ]
  },
  {
   "cell_type": "code",
   "execution_count": 1,
   "id": "3665e065",
   "metadata": {},
   "outputs": [],
   "source": [
    "# Req 1-3 최적화 함수 및 손실 함수 바인딩\n",
    "model.compile(optimizer=tf.keras.optimizers.SGD(learning_rate=0.001), loss=tf.keras.losses.MSE, metrics=[tf.keras.metrics.MeanSquaredError()])"
   ]
  },
  {
   "cell_type": "code",
   "execution_count": 2,
   "id": "405b9a39",
   "metadata": {},
   "outputs": [],
   "source": [
    "# Req 1-4 모델 학습 함수 구현\n",
    "model.fit(x=x_data, y=y_data, epochs=10, batch_size=32)"
   ]
  },
  {
   "cell_type": "code",
   "execution_count": 4,
   "id": "973eb418",
   "metadata": {},
   "outputs": [
    {
     "ename": "NameError",
     "evalue": "name 'model' is not defined",
     "output_type": "error",
     "traceback": [
      "\u001b[1;31m---------------------------------------------------------------------------\u001b[0m",
      "\u001b[1;31mNameError\u001b[0m                                 Traceback (most recent call last)",
      "\u001b[1;32m~\\AppData\\Local\\Temp/ipykernel_17256/93364656.py\u001b[0m in \u001b[0;36m<module>\u001b[1;34m\u001b[0m\n\u001b[0;32m      1\u001b[0m \u001b[1;31m# Req 1-5 예측 및 결과 시각화\u001b[0m\u001b[1;33m\u001b[0m\u001b[1;33m\u001b[0m\u001b[1;33m\u001b[0m\u001b[0m\n\u001b[1;32m----> 2\u001b[1;33m \u001b[0mprediction\u001b[0m \u001b[1;33m=\u001b[0m \u001b[0mmodel\u001b[0m\u001b[1;33m.\u001b[0m\u001b[0mpredict\u001b[0m\u001b[1;33m(\u001b[0m\u001b[0mx\u001b[0m\u001b[1;33m=\u001b[0m\u001b[0mtest_x\u001b[0m\u001b[1;33m,\u001b[0m \u001b[0mbatch_size\u001b[0m\u001b[1;33m=\u001b[0m\u001b[1;32mNone\u001b[0m\u001b[1;33m)\u001b[0m\u001b[1;33m\u001b[0m\u001b[1;33m\u001b[0m\u001b[0m\n\u001b[0m\u001b[0;32m      3\u001b[0m \u001b[1;33m\u001b[0m\u001b[0m\n\u001b[0;32m      4\u001b[0m \u001b[0mplt\u001b[0m\u001b[1;33m.\u001b[0m\u001b[0mscatter\u001b[0m\u001b[1;33m(\u001b[0m\u001b[0mx_data\u001b[0m\u001b[1;33m,\u001b[0m\u001b[0my_data\u001b[0m\u001b[1;33m,\u001b[0m\u001b[0ms\u001b[0m\u001b[1;33m=\u001b[0m\u001b[1;36m5\u001b[0m\u001b[1;33m,\u001b[0m\u001b[0mlabel\u001b[0m\u001b[1;33m=\u001b[0m\u001b[1;34m\"train data\"\u001b[0m\u001b[1;33m)\u001b[0m\u001b[1;33m\u001b[0m\u001b[1;33m\u001b[0m\u001b[0m\n\u001b[0;32m      5\u001b[0m \u001b[0mplt\u001b[0m\u001b[1;33m.\u001b[0m\u001b[0mscatter\u001b[0m\u001b[1;33m(\u001b[0m\u001b[0mtest_x\u001b[0m\u001b[1;33m,\u001b[0m\u001b[0mprediction\u001b[0m\u001b[1;33m,\u001b[0m\u001b[0ms\u001b[0m\u001b[1;33m=\u001b[0m\u001b[1;36m5\u001b[0m\u001b[1;33m,\u001b[0m\u001b[0mlabel\u001b[0m\u001b[1;33m=\u001b[0m\u001b[1;34m\"prediction data\"\u001b[0m\u001b[1;33m)\u001b[0m\u001b[1;33m\u001b[0m\u001b[1;33m\u001b[0m\u001b[0m\n",
      "\u001b[1;31mNameError\u001b[0m: name 'model' is not defined"
     ]
    }
   ],
   "source": [
    "# Req 1-5 예측 및 결과 시각화\n",
    "prediction = model.predict(x=test_x, batch_size=None)\n",
    "\n",
    "plt.scatter(x_data,y_data,s=5,label=\"train data\")\n",
    "plt.scatter(test_x,prediction,s=5,label=\"prediction data\")\n",
    "plt.legend()\n",
    "plt.show()"
   ]
  },
  {
   "cell_type": "code",
   "execution_count": null,
   "id": "5d137690",
   "metadata": {},
   "outputs": [],
   "source": []
  }
 ],
 "metadata": {
  "kernelspec": {
   "display_name": "Python 3 (ipykernel)",
   "language": "python",
   "name": "python3"
  },
  "language_info": {
   "codemirror_mode": {
    "name": "ipython",
    "version": 3
   },
   "file_extension": ".py",
   "mimetype": "text/x-python",
   "name": "python",
   "nbconvert_exporter": "python",
   "pygments_lexer": "ipython3",
   "version": "3.7.11"
  }
 },
 "nbformat": 4,
 "nbformat_minor": 5
}
