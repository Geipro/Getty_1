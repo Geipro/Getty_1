{
 "cells": [
  {
   "cell_type": "code",
   "execution_count": 8,
   "id": "f6c55474",
   "metadata": {},
   "outputs": [],
   "source": [
    "import glob\n",
    "import numpy as np\n",
    "import pandas as pd\n",
    "import matplotlib.pyplot as plt\n",
    "import warnings\n",
    "import tensorflow as tf\n",
    "warnings.filterwarnings(\"ignore\", category=np.VisibleDeprecationWarning) \n",
    "\n",
    "paths = glob.glob('.//datas/*/*.png')\n",
    "paths = np.random.permutation(paths)\n",
    "\n",
    "A = np.array([plt.imread(paths[i], 0) for i in range(len(paths))])\n",
    "B = np.array([paths[i].split('/')[-2] for i in range(len(paths))])\n",
    "\n",
    "B = pd.get_dummies(B)"
   ]
  },
  {
   "cell_type": "code",
   "execution_count": 9,
   "id": "6a2f6ec3",
   "metadata": {},
   "outputs": [],
   "source": [
    "X = tf.keras.layers.Input(shape=[256, 256, 3])\n",
    "\n",
    "H = tf.keras.layers.Conv2D(6, kernel_size=5, padding='same', activation='relu')(X)\n",
    "H = tf.keras.layers.MaxPool2D()(H)\n",
    "\n",
    "H = tf.keras.layers.Conv2D(16, kernel_size=5, activation='relu')(H)\n",
    "H = tf.keras.layers.MaxPool2D()(H)\n",
    "\n",
    "H = tf.keras.layers.Flatten()(H)\n",
    "H = tf.keras.layers.Dense(120, activation='relu')(H)\n",
    "H = tf.keras.layers.Dense(84, activation='relu')(H)\n",
    "Y = tf.keras.layers.Dense(7, activation='softmax')(H)\n",
    "\n",
    "model = tf.keras.models.Model(X, Y)\n",
    "model.compile(loss='categorical_crossentropy', metrics=['acc'])"
   ]
  },
  {
   "cell_type": "code",
   "execution_count": 13,
   "id": "6233ca67",
   "metadata": {},
   "outputs": [],
   "source": [
    "train_x = np.asarray(A)\n",
    "train_y = np.asarray(B)"
   ]
  },
  {
   "cell_type": "code",
   "execution_count": 14,
   "id": "6befb42d",
   "metadata": {},
   "outputs": [
    {
     "name": "stdout",
     "output_type": "stream",
     "text": [
      "Train on 700 samples\n",
      "Epoch 1/3\n",
      "700/700 [==============================] - 30s 43ms/sample - loss: 1.6659 - acc: 0.6900\n",
      "Epoch 2/3\n",
      "700/700 [==============================] - 28s 40ms/sample - loss: 0.0016 - acc: 1.0000\n",
      "Epoch 3/3\n",
      "700/700 [==============================] - 29s 41ms/sample - loss: 5.4531e-05 - acc: 1.0000\n"
     ]
    },
    {
     "data": {
      "text/plain": [
       "<tensorflow.python.keras.callbacks.History at 0x7fddb951fb10>"
      ]
     },
     "execution_count": 14,
     "metadata": {},
     "output_type": "execute_result"
    }
   ],
   "source": [
    "model.fit(train_x, train_y, epochs=3)"
   ]
  },
  {
   "cell_type": "code",
   "execution_count": null,
   "id": "9cf859da",
   "metadata": {},
   "outputs": [],
   "source": []
  }
 ],
 "metadata": {
  "kernelspec": {
   "display_name": "Python 3 (ipykernel)",
   "language": "python",
   "name": "python3"
  },
  "language_info": {
   "codemirror_mode": {
    "name": "ipython",
    "version": 3
   },
   "file_extension": ".py",
   "mimetype": "text/x-python",
   "name": "python",
   "nbconvert_exporter": "python",
   "pygments_lexer": "ipython3",
   "version": "3.7.11"
  }
 },
 "nbformat": 4,
 "nbformat_minor": 5
}
